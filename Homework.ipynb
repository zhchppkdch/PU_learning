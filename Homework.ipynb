{
  "nbformat": 4,
  "nbformat_minor": 0,
  "metadata": {
    "kernelspec": {
      "display_name": "Python 3",
      "language": "python",
      "name": "python3"
    },
    "language_info": {
      "codemirror_mode": {
        "name": "ipython",
        "version": 3
      },
      "file_extension": ".py",
      "mimetype": "text/x-python",
      "name": "python",
      "nbconvert_exporter": "python",
      "pygments_lexer": "ipython3",
      "version": "3.7.6"
    },
    "colab": {
      "name": "Homework.ipynb",
      "provenance": [],
      "collapsed_sections": []
    }
  },
  "cells": [
    {
      "cell_type": "markdown",
      "metadata": {
        "id": "YF6TT_WABNSv"
      },
      "source": [
        "# Homework CAPITA SELECTA PU Learning"
      ]
    },
    {
      "cell_type": "code",
      "metadata": {
        "id": "2nYChwzvBNS2"
      },
      "source": [
        "import numpy as np\n",
        "import pandas as pd\n",
        "import matplotlib.pyplot as plt\n",
        "from collections import Counter\n",
        "from sklearn.metrics import f1_score, mean_squared_error as mse\n",
        "from sklearn import svm\n",
        "\n",
        "def ignore_warnings():\n",
        "    import warnings\n",
        "    warnings.simplefilter(action='ignore', category=FutureWarning)\n",
        "    warnings.simplefilter(action='ignore', category=Warning)\n",
        "\n",
        "ignore_warnings()\n",
        "\n",
        "from PU_Learning import *\n"
      ],
      "execution_count": 22,
      "outputs": []
    },
    {
      "cell_type": "code",
      "metadata": {
        "id": "iRuheyGOB17Z",
        "colab": {
          "resources": {
            "http://localhost:8080/nbextensions/google.colab/files.js": {
              "data": "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",
              "ok": true,
              "headers": [
                [
                  "content-type",
                  "application/javascript"
                ]
              ],
              "status": 200,
              "status_text": ""
            }
          },
          "base_uri": "https://localhost:8080/",
          "height": 174
        },
        "outputId": "5783e3af-84c6-4e0e-9c9f-4151a3d0627e"
      },
      "source": [
        "from google.colab import files \r\n",
        "  \r\n",
        "  \r\n",
        "uploaded = files.upload()"
      ],
      "execution_count": 23,
      "outputs": [
        {
          "output_type": "display_data",
          "data": {
            "text/html": [
              "\n",
              "     <input type=\"file\" id=\"files-ca5d01fb-5919-4b6e-8e03-b6c6165f4f3e\" name=\"files[]\" multiple disabled\n",
              "        style=\"border:none\" />\n",
              "     <output id=\"result-ca5d01fb-5919-4b6e-8e03-b6c6165f4f3e\">\n",
              "      Upload widget is only available when the cell has been executed in the\n",
              "      current browser session. Please rerun this cell to enable.\n",
              "      </output>\n",
              "      <script src=\"/nbextensions/google.colab/files.js\"></script> "
            ],
            "text/plain": [
              "<IPython.core.display.HTML object>"
            ]
          },
          "metadata": {
            "tags": []
          }
        },
        {
          "output_type": "stream",
          "text": [
            "Saving Dataset1_test.csv to Dataset1_test (1).csv\n",
            "Saving Dataset1_train.csv to Dataset1_train (1).csv\n",
            "Saving Dataset2_test.csv to Dataset2_test (1).csv\n",
            "Saving Dataset2_train.csv to Dataset2_train (1).csv\n"
          ],
          "name": "stdout"
        }
      ]
    },
    {
      "cell_type": "markdown",
      "metadata": {
        "id": "IXfi2dyJBNS3"
      },
      "source": [
        "## First Dataset"
      ]
    },
    {
      "cell_type": "markdown",
      "metadata": {
        "id": "Iqf8f6fXBNS4"
      },
      "source": [
        "#### https://archive.ics.uci.edu/ml/datasets/banknote+authentication"
      ]
    },
    {
      "cell_type": "code",
      "metadata": {
        "id": "NNjd425NBNS4"
      },
      "source": [
        "data = pd.read_csv('Dataset1_train.csv')\n",
        "X1_train= data.iloc[:, :-2].values\n",
        "y1_train = data.iloc[:, -1].values\n",
        "s1 = data.iloc[:, -2].values\n",
        "c1 = Counter(s1)[1]/Counter(y1_train)[1]\n",
        "\n",
        "data = pd.read_csv('Dataset1_test.csv')\n",
        "X1_test= data.iloc[:, :-1].values\n",
        "y1_test = data.iloc[:, -1].values"
      ],
      "execution_count": 24,
      "outputs": []
    },
    {
      "cell_type": "markdown",
      "metadata": {
        "id": "eap3BusMBNS4"
      },
      "source": [
        "### Golden Standard Classifier (first dataset)"
      ]
    },
    {
      "cell_type": "code",
      "metadata": {
        "colab": {
          "base_uri": "https://localhost:8080/"
        },
        "id": "xSVE98b1BNS5",
        "outputId": "8e9f5201-3336-41e9-9448-0c887340cbcb"
      },
      "source": [
        "# Consider the dataset as fully labeled. Use this as the best case in the comparison.\n",
        "\n",
        "golden_clf = svm.SVC(kernel='rbf',probability=True,random_state = 331).fit(np.copy(X1_train),np.copy(y1_train))\n",
        "name = \"Golden Standard Classifier:\"\n",
        "\n",
        "y_best_pred = golden_clf.predict(np.copy(X1_test))\n",
        "y_best_prob = golden_clf.predict_proba(np.copy(X1_test))[:,1]\n",
        "\n",
        "print(name,\"F1 score:\", f1_score(y1_test, y_best_pred))"
      ],
      "execution_count": 26,
      "outputs": [
        {
          "output_type": "stream",
          "text": [
            "Golden Standard Classifier: F1 score: 0.9917355371900827\n"
          ],
          "name": "stdout"
        }
      ]
    },
    {
      "cell_type": "markdown",
      "metadata": {
        "id": "-Q4FQqAgBNS5"
      },
      "source": [
        "### Non-Traditional Classifier (first dataset)"
      ]
    },
    {
      "cell_type": "code",
      "metadata": {
        "colab": {
          "base_uri": "https://localhost:8080/"
        },
        "id": "y3_2nRM_BNS5",
        "outputId": "4763cdac-f529-4cc1-9bc0-69b1b5cca678"
      },
      "source": [
        "#fit a model on (X, s1) and see the performance. Compare it with the two methods.\n",
        "non_trad_clf = svm.SVC(kernel='rbf', probability=True, random_state = 331).fit(np.copy(X1_train),np.copy(s1))\n",
        "name = \"Non-Traditional Classifier\"\n",
        "\n",
        "y_pred = non_trad_clf.predict(np.copy(X1_test))\n",
        "y_pred_prob = non_trad_clf.predict_proba(np.copy(X1_test))[:,1]\n",
        "print(name,\"F1 score:\", f1_score(y1_test, y_pred))\n",
        "print(name,\"MSE score:\", mse(y_best_prob, y_pred_prob))"
      ],
      "execution_count": 27,
      "outputs": [
        {
          "output_type": "stream",
          "text": [
            "Non-Traditional Classifier F1 score: 0.0\n",
            "Non-Traditional Classifier MSE score: 0.362337034730248\n"
          ],
          "name": "stdout"
        }
      ]
    },
    {
      "cell_type": "markdown",
      "metadata": {
        "id": "OC6fpOzLBNS5"
      },
      "source": [
        "### Positive Example Based Learning (PEBL) (first dataset)"
      ]
    },
    {
      "cell_type": "code",
      "metadata": {
        "scrolled": true,
        "colab": {
          "base_uri": "https://localhost:8080/"
        },
        "id": "4QW7-5J8BNS5",
        "outputId": "9c40c0db-93ea-4e41-d0ed-a46b8d184966"
      },
      "source": [
        "pu_classifier = PEBL(nb_strong_negatives=10)\n",
        "name = \"PEBL\"\n",
        "\n",
        "pu_classifier.fit(np.copy(X1_train), np.copy(s1))\n",
        "\n",
        "y_pred = pu_classifier.predict(np.copy(X1_test))\n",
        "\n",
        "y_pred_prob = pu_classifier.predict_proba(np.copy(X1_test))[:,1]\n",
        "\n",
        "print(name,\"F1 score:\", f1_score(y1_test, y_pred))\n",
        "print(name,\"MSE score:\", mse(y_best_prob, y_pred_prob))"
      ],
      "execution_count": 28,
      "outputs": [
        {
          "output_type": "stream",
          "text": [
            "PEBL F1 score: 0.9387755102040817\n",
            "PEBL MSE score: 0.045259841284443186\n"
          ],
          "name": "stdout"
        }
      ]
    },
    {
      "cell_type": "markdown",
      "metadata": {
        "id": "MVFKZ3CwBNS6"
      },
      "source": [
        "### Elkan and Noto (first dataset)"
      ]
    },
    {
      "cell_type": "code",
      "metadata": {
        "colab": {
          "base_uri": "https://localhost:8080/"
        },
        "id": "KkwFT03pBNS6",
        "outputId": "196c1a14-a867-4e7d-e573-89738a9330c9"
      },
      "source": [
        "c_hat = ElkanNotoLabelFrequencyEstimator().estimate_c(X1_train,s1)\n",
        "print(\"The real label frequency is c =\", c1, \"while the estimate is c_hat =\", c_hat)"
      ],
      "execution_count": 29,
      "outputs": [
        {
          "output_type": "stream",
          "text": [
            "The real label frequency is c = 0.2 while the estimate is c_hat = 0.09164149444362965\n"
          ],
          "name": "stdout"
        }
      ]
    },
    {
      "cell_type": "code",
      "metadata": {
        "colab": {
          "base_uri": "https://localhost:8080/"
        },
        "id": "qDYimqjEBNS6",
        "outputId": "a0cc532f-6769-464d-f10e-671189314a08"
      },
      "source": [
        "name = \"EN with correct c\"\n",
        "pu_classifier = ElkanNotoWeightedClassifier()\n",
        "pu_classifier.set_c(c1)\n",
        "\n",
        "pu_classifier.fit(np.copy(X1_train), np.copy(s1))\n",
        "y_pred = pu_classifier.predict(np.copy(X1_test))\n",
        "y_pred_prob = pu_classifier.predict_proba(np.copy(X1_test))[:,1]\n",
        "print(name,\"F1 score:\", f1_score(y1_test, y_pred))\n",
        "print(name,\"MSE score:\", mse(y_best_prob, y_pred_prob))"
      ],
      "execution_count": 30,
      "outputs": [
        {
          "output_type": "stream",
          "text": [
            "EN with correct c F1 score: 0.9809264305177112\n",
            "EN with correct c MSE score: 0.22678080654125557\n"
          ],
          "name": "stdout"
        }
      ]
    },
    {
      "cell_type": "code",
      "metadata": {
        "colab": {
          "base_uri": "https://localhost:8080/"
        },
        "id": "aWqP56w-BNS6",
        "outputId": "29dbf655-bb76-4004-a300-ffa3888defa9"
      },
      "source": [
        "name = \"EN with estimated c\"\n",
        "pu_classifier = ElkanNotoWeightedClassifier()\n",
        "pu_classifier.set_c(c_hat)\n",
        "\n",
        "pu_classifier.fit(np.copy(X1_train), np.copy(s1))\n",
        "y_pred = pu_classifier.predict(np.copy(X1_test))\n",
        "y_pred_prob = pu_classifier.predict_proba(np.copy(X1_test))[:,1]\n",
        "print(name,\" F1 score:\", f1_score(y1_test, y_pred))\n",
        "print(name,\"MSE score:\", mse(y_best_prob, y_pred_prob))"
      ],
      "execution_count": 31,
      "outputs": [
        {
          "output_type": "stream",
          "text": [
            "EN with estimated c  F1 score: 0.608108108108108\n",
            "EN with estimated c MSE score: 0.2864132066365655\n"
          ],
          "name": "stdout"
        }
      ]
    },
    {
      "cell_type": "markdown",
      "metadata": {
        "id": "W8mzI1OJBNS6"
      },
      "source": [
        "## Second Dataset"
      ]
    },
    {
      "cell_type": "markdown",
      "metadata": {
        "id": "Q1S5w7mxBNS6"
      },
      "source": [
        "### https://archive.ics.uci.edu/ml/datasets/Diabetic+Retinopathy+Debrecen+Data+Set"
      ]
    },
    {
      "cell_type": "code",
      "metadata": {
        "scrolled": true,
        "id": "xM5P3vXEBNS7"
      },
      "source": [
        "data = pd.read_csv('Dataset2_train.csv')\n",
        "X2_train= data.iloc[:, :-2].values\n",
        "y2_train = data.iloc[:, -1].values\n",
        "s2 = data.iloc[:, -2].values\n",
        "c2 = Counter(s2)[1]/Counter(y2_train)[1]\n",
        "\n",
        "data = pd.read_csv('Dataset2_test.csv')\n",
        "X2_test= data.iloc[:, :-1].values\n",
        "y2_test = data.iloc[:, -1].values"
      ],
      "execution_count": 32,
      "outputs": []
    },
    {
      "cell_type": "markdown",
      "metadata": {
        "id": "JoL7G0fnBNS7"
      },
      "source": [
        "### Golden Standard Classifier (second dataset)"
      ]
    },
    {
      "cell_type": "code",
      "metadata": {
        "colab": {
          "base_uri": "https://localhost:8080/"
        },
        "id": "Bi8KT9gSBNS7",
        "outputId": "d775dc20-998e-45ea-f95a-fb30e40a8c3c"
      },
      "source": [
        "# Consider the dataset as fully labeled. Use this as the best case in the comparison.\n",
        "\n",
        "golden_clf = svm.SVC(kernel='rbf',probability=True,random_state = 331).fit(np.copy(X2_train),np.copy(y2_train))\n",
        "name = \"Golden Standard Classifier:\"\n",
        "\n",
        "y_best_pred = golden_clf.predict(np.copy(X2_test))\n",
        "y_best_prob = golden_clf.predict_proba(np.copy(X2_test))[:,1]\n",
        "\n",
        "print(name,\"F1 score:\", f1_score(y2_test, y_best_pred))"
      ],
      "execution_count": 33,
      "outputs": [
        {
          "output_type": "stream",
          "text": [
            "Golden Standard Classifier: F1 score: 0.6357615894039735\n"
          ],
          "name": "stdout"
        }
      ]
    },
    {
      "cell_type": "markdown",
      "metadata": {
        "id": "oMg92hOzBNS7"
      },
      "source": [
        "### Non-Traditional Classifier (second dataset)"
      ]
    },
    {
      "cell_type": "code",
      "metadata": {
        "colab": {
          "base_uri": "https://localhost:8080/"
        },
        "id": "AREbNN4PBNS7",
        "outputId": "28683908-b2d7-4deb-9b00-48b5752562f8"
      },
      "source": [
        "#fit a model on (X, s1) and see the performance. Compare it with the two methods.\n",
        "non_trad_clf = svm.SVC(kernel='rbf', probability=True, random_state = 331).fit(np.copy(X2_train),np.copy(s2))\n",
        "name = \"Non-Traditional Classifier\"\n",
        "\n",
        "y_pred = non_trad_clf.predict(np.copy(X2_test))\n",
        "y_pred_prob = non_trad_clf.predict_proba(np.copy(X2_test))[:,1]\n",
        "print(name,\"F1 score:\", f1_score(y2_test, y_pred))\n",
        "print(name,\"MSE score:\", mse(y_best_prob, y_pred_prob))"
      ],
      "execution_count": 34,
      "outputs": [
        {
          "output_type": "stream",
          "text": [
            "Non-Traditional Classifier F1 score: 0.0\n",
            "Non-Traditional Classifier MSE score: 0.22254064808501386\n"
          ],
          "name": "stdout"
        }
      ]
    },
    {
      "cell_type": "markdown",
      "metadata": {
        "id": "VRZcI0OQBNS7"
      },
      "source": [
        "### Positive Example Based Learning (PEBL) (second dataset)"
      ]
    },
    {
      "cell_type": "code",
      "metadata": {
        "id": "tUr7SmMpBNS8",
        "colab": {
          "base_uri": "https://localhost:8080/"
        },
        "outputId": "ba5c59eb-0115-40e8-d053-b65ba05af664"
      },
      "source": [
        "pu_classifier = PEBL()\n",
        "name = \"PEBL\"\n",
        "\n",
        "pu_classifier.fit(np.copy(X2_train), np.copy(s2))\n",
        "y_pred = pu_classifier.predict(np.copy(X2_test))\n",
        "y_pred_prob = pu_classifier.predict_proba(np.copy(X2_test))[:,1]\n",
        "print(name,\"F1 score:\", f1_score(y2_test, y_pred))\n",
        "print(name,\"MSE score:\", mse(y_best_prob, y_pred_prob))"
      ],
      "execution_count": 35,
      "outputs": [
        {
          "output_type": "stream",
          "text": [
            "PEBL F1 score: 0.0\n",
            "PEBL MSE score: 0.2081606970366609\n"
          ],
          "name": "stdout"
        }
      ]
    },
    {
      "cell_type": "markdown",
      "metadata": {
        "id": "sb5SnSc-BNS8"
      },
      "source": [
        "### Elkan and Noto (second dataset)"
      ]
    },
    {
      "cell_type": "code",
      "metadata": {
        "id": "2EgdfDfUBNS8",
        "colab": {
          "base_uri": "https://localhost:8080/"
        },
        "outputId": "2e27787e-bf0c-49ef-febe-29bae7ac549c"
      },
      "source": [
        "c_hat = ElkanNotoLabelFrequencyEstimator().estimate_c(X2_train,s2)\n",
        "print(\"The real label frequency is c =\", c2,\"while the estimate is c_hat =\", c_hat)"
      ],
      "execution_count": 36,
      "outputs": [
        {
          "output_type": "stream",
          "text": [
            "The real label frequency is c = 0.19813519813519814 while the estimate is c_hat = 0.10605406465840528\n"
          ],
          "name": "stdout"
        }
      ]
    },
    {
      "cell_type": "code",
      "metadata": {
        "id": "9ByzodQkBNS8",
        "colab": {
          "base_uri": "https://localhost:8080/"
        },
        "outputId": "a4be333d-e92d-4f6b-86f4-7ecc55bad1c4"
      },
      "source": [
        "name = \"EN with correct c\"\n",
        "pu_classifier = ElkanNotoWeightedClassifier()\n",
        "pu_classifier.set_c(c2)\n",
        "\n",
        "pu_classifier.fit(np.copy(X2_train), np.copy(s2))\n",
        "y_pred = pu_classifier.predict(np.copy(X2_test))\n",
        "y_pred_prob = pu_classifier.predict_proba(np.copy(X2_test))[:,1]\n",
        "print(name,\"F1 score:\", f1_score(y2_test, y_pred))\n",
        "print(name,\"MSE score:\", mse(y_best_prob, y_pred_prob))"
      ],
      "execution_count": 37,
      "outputs": [
        {
          "output_type": "stream",
          "text": [
            "EN with correct c F1 score: 0.6893939393939393\n",
            "EN with correct c MSE score: 0.05492933041892168\n"
          ],
          "name": "stdout"
        }
      ]
    },
    {
      "cell_type": "code",
      "metadata": {
        "id": "x9j1GEL_BNS8",
        "colab": {
          "base_uri": "https://localhost:8080/"
        },
        "outputId": "280500c5-a181-40cb-da65-b4d85924b72b"
      },
      "source": [
        "name = \"EN with estimated c\"\n",
        "pu_classifier = ElkanNotoWeightedClassifier()\n",
        "pu_classifier.set_c(c_hat)\n",
        "\n",
        "pu_classifier.fit(np.copy(X2_train), np.copy(s2))\n",
        "y_pred = pu_classifier.predict(np.copy(X2_test))\n",
        "y_pred_prob = pu_classifier.predict_proba(np.copy(X2_test))[:,1]\n",
        "print(name,\"F1 score:\", f1_score(y2_test, y_pred))\n",
        "print(name,\"MSE score:\", mse(y_best_prob, y_pred_prob))"
      ],
      "execution_count": 38,
      "outputs": [
        {
          "output_type": "stream",
          "text": [
            "EN with estimated c F1 score: 0.6893939393939393\n",
            "EN with estimated c MSE score: 0.08912424289026555\n"
          ],
          "name": "stdout"
        }
      ]
    }
  ]
}